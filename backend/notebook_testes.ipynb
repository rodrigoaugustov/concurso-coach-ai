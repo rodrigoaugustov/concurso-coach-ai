{
 "cells": [
  {
   "cell_type": "code",
   "execution_count": 1,
   "id": "5c569aef",
   "metadata": {},
   "outputs": [
    {
     "name": "stdout",
     "output_type": "stream",
     "text": [
      "✅ Sucesso! Usuário criado com ID: 1\n"
     ]
    }
   ],
   "source": [
    "import requests\n",
    "import random\n",
    "import time\n",
    "import os\n",
    "\n",
    "# --- Configurações ---\n",
    "BASE_URL = \"http://localhost:8000/api/v1\"\n",
    "# Garante que o script encontre o PDF, não importa de onde ele seja executado\n",
    "PROJECT_ROOT = os.getcwd()\n",
    "PDF_PATH = os.path.join(PROJECT_ROOT, \"edital_seap.pdf\")\n",
    "\n",
    "# Dados do usuário de teste (usaremos um e-mail aleatório para cada execução)\n",
    "USER_EMAIL = f\"testuser_{int(time.time())}@example.com\"\n",
    "USER_PASSWORD = \"a_strong_password\"\n",
    "USER_NAME = \"Test User\"\n",
    "\n",
    "user_payload = {\"name\": USER_NAME, \"email\": USER_EMAIL, \"password\": USER_PASSWORD}\n",
    "response = requests.post(f\"{BASE_URL}\", json=user_payload)\n",
    "user_id = response.json()[\"id\"]\n",
    "print(f\"✅ Sucesso! Usuário criado com ID: {user_id}\")"
   ]
  },
  {
   "cell_type": "code",
   "execution_count": 2,
   "id": "ad3f4590",
   "metadata": {},
   "outputs": [
    {
     "name": "stdout",
     "output_type": "stream",
     "text": [
      "✅ Sucesso! Token gerado.\n"
     ]
    }
   ],
   "source": [
    "login_payload = {\"username\": USER_EMAIL, \"password\": USER_PASSWORD}\n",
    "response = requests.post(f\"{BASE_URL}/token\", data=login_payload)\n",
    "access_token = response.json()[\"access_token\"]\n",
    "headers = {\"Authorization\": f\"Bearer {access_token}\"}\n",
    "print(\"✅ Sucesso! Token gerado.\")"
   ]
  },
  {
   "cell_type": "code",
   "execution_count": 10,
   "id": "d3537af8",
   "metadata": {},
   "outputs": [
    {
     "name": "stdout",
     "output_type": "stream",
     "text": [
      "✅ Sucesso! Upload recebido. ID do concurso: 7. Aguardando processamento...\n"
     ]
    }
   ],
   "source": [
    "# ENVIA O EDITAL\n",
    "with open(PDF_PATH, \"rb\") as f:\n",
    "    files = {\"file\": (os.path.basename(PDF_PATH), f, \"application/pdf\")}\n",
    "    response = requests.post(f\"{BASE_URL}/contests/upload\", files=files, headers=headers)\n",
    "\n",
    "contest_id = response.json()[\"id\"]\n",
    "print(f\"✅ Sucesso! Upload recebido. ID do concurso: {contest_id}. Aguardando processamento...\")"
   ]
  },
  {
   "cell_type": "code",
   "execution_count": 11,
   "id": "12c053f3",
   "metadata": {},
   "outputs": [
    {
     "name": "stdout",
     "output_type": "stream",
     "text": [
      "\n",
      "[4/6] 🎓 Inscrevendo-se em um cargo...\n",
      "✅ Sucesso! Inscrição realizada. ID da inscrição: 1\n"
     ]
    }
   ],
   "source": [
    "# 4. FAZER INSCRIÇÃO EM UM CARGO\n",
    "# ===============================\n",
    "print(f\"\\n[4/6] 🎓 Inscrevendo-se em um cargo...\")\n",
    "response = requests.get(f\"{BASE_URL}/contests/\", headers=headers)\n",
    "\n",
    "available_contests = response.json()\n",
    "\n",
    "# Pega o primeiro cargo do primeiro concurso disponível\n",
    "role_id = available_contests[0][\"roles\"][0][\"id\"]\n",
    "response = requests.post(f\"{BASE_URL}/study/subscribe/{role_id}\", headers=headers)\n",
    "\n",
    "user_contest_id = response.json()[\"id\"]\n",
    "print(f\"✅ Sucesso! Inscrição realizada. ID da inscrição: {user_contest_id}\")"
   ]
  },
  {
   "cell_type": "code",
   "execution_count": 12,
   "id": "109a6f15",
   "metadata": {},
   "outputs": [
    {
     "name": "stdout",
     "output_type": "stream",
     "text": [
      "\n",
      "[5/6] 📊 Enviando autoavaliação de proficiência...\n",
      "✅ Sucesso! Proficiência enviada.\n"
     ]
    }
   ],
   "source": [
    "# 5. ENVIAR AUTOAVALIAÇÃO\n",
    "# =========================\n",
    "print(f\"\\n[5/6] 📊 Enviando autoavaliação de proficiência...\")\n",
    "response = requests.get(f\"{BASE_URL}/study/user-contests/{user_contest_id}/subjects\", headers=headers)\n",
    "    \n",
    "subjects = response.json()\n",
    "proficiency_payload = {\n",
    "    \"proficiencies\": [\n",
    "        {\"subject\": subject, \"score\": round(random.uniform(0.1, 0.9), 2)} for subject in subjects\n",
    "    ]\n",
    "}\n",
    "\n",
    "response = requests.post(\n",
    "    f\"{BASE_URL}/study/user-contests/{user_contest_id}/proficiency\",\n",
    "    json=proficiency_payload,\n",
    "    headers=headers\n",
    ")\n",
    "\n",
    "print(\"✅ Sucesso! Proficiência enviada.\")"
   ]
  },
  {
   "cell_type": "code",
   "execution_count": 13,
   "id": "a82e3662",
   "metadata": {},
   "outputs": [
    {
     "name": "stdout",
     "output_type": "stream",
     "text": [
      "\n",
      "[6/6] 🧠 Gerando plano de estudo com a IA... (Isso pode demorar)\n",
      "✅ SUCESSO TOTAL! Plano de estudo gerado com 84 sessões.\n",
      "🎉 Pipeline concluído com sucesso!\n"
     ]
    }
   ],
   "source": [
    "# 6. CRIAR PLANO DE ESTUDO\n",
    "# =========================\n",
    "print(f\"\\n[6/6] 🧠 Gerando plano de estudo com a IA... (Isso pode demorar)\")\n",
    "response = requests.post(\n",
    "    f\"{BASE_URL}/study/user-contests/{user_contest_id}/generate-plan\",\n",
    "    headers=headers,\n",
    "    timeout=300 # Timeout de 5 minutos para a IA\n",
    ")\n",
    "    \n",
    "result = response.json()\n",
    "items_created = result.get(\"roadmap_items_created\", 0)\n",
    "print(f\"✅ SUCESSO TOTAL! Plano de estudo gerado com {items_created} sessões.\")\n",
    "print(\"🎉 Pipeline concluído com sucesso!\")"
   ]
  }
 ],
 "metadata": {
  "kernelspec": {
   "display_name": "Python 3",
   "language": "python",
   "name": "python3"
  },
  "language_info": {
   "codemirror_mode": {
    "name": "ipython",
    "version": 3
   },
   "file_extension": ".py",
   "mimetype": "text/x-python",
   "name": "python",
   "nbconvert_exporter": "python",
   "pygments_lexer": "ipython3",
   "version": "3.11.5"
  }
 },
 "nbformat": 4,
 "nbformat_minor": 5
}
